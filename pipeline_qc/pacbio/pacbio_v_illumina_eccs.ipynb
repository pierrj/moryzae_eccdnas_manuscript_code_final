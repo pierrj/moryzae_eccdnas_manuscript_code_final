{
 "cells": [
  {
   "cell_type": "code",
   "execution_count": 12,
   "metadata": {},
   "outputs": [],
   "source": [
    "import csv\n",
    "import numpy as np"
   ]
  },
  {
   "cell_type": "code",
   "execution_count": 13,
   "metadata": {},
   "outputs": [],
   "source": [
    "pacbio_file = 'G3_1A_pacbio_eccs.bed'\n",
    "illumina_file = 'G3_1A.ecc_caller_out.details.nolowq.txt'"
   ]
  },
  {
   "cell_type": "code",
   "execution_count": 14,
   "metadata": {},
   "outputs": [],
   "source": [
    "pacbio_eccs = []\n",
    "with open(pacbio_file, newline = '') as file:\n",
    "    file_reader = csv.reader(file, delimiter = '\\t')\n",
    "    for row in file_reader:\n",
    "        pacbio_eccs.append([row[0], int(row[1]), int(row[2])])"
   ]
  },
  {
   "cell_type": "code",
   "execution_count": 15,
   "metadata": {},
   "outputs": [],
   "source": [
    "illumina = []\n",
    "with open(illumina_file, newline = '') as file:\n",
    "    file_reader = csv.reader(file, delimiter = '\\t')\n",
    "    for row in file_reader:\n",
    "        illumina.append([row[0], row[1], row[2]])\n",
    "illumina_indexed = [[] for i in range(56)]\n",
    "for ecc in illumina:\n",
    "    scaffold_num = int(ecc[0][10:12])-1\n",
    "    illumina_indexed[scaffold_num].append(ecc)\n",
    "illumina_arrays = []\n",
    "for i in range(len(illumina_indexed)):\n",
    "    illumina_arrays.append(np.array(illumina_indexed[i], dtype=object))"
   ]
  },
  {
   "cell_type": "code",
   "execution_count": 16,
   "metadata": {},
   "outputs": [
    {
     "name": "stdout",
     "output_type": "stream",
     "text": [
      "18759\n"
     ]
    }
   ],
   "source": [
    "print(len(pacbio_eccs))"
   ]
  },
  {
   "cell_type": "code",
   "execution_count": 17,
   "metadata": {},
   "outputs": [],
   "source": [
    "pacbio_with_overlap = []\n",
    "overlap_count = []\n",
    "pacbio_no_overlap = []\n",
    "tolerance = 10\n",
    "for ecc in pacbio_eccs:\n",
    "    start_ecc = ecc[1]\n",
    "    end_ecc = ecc[2]\n",
    "    illumina_for_scaffold = illumina_arrays[int(ecc[0][10:12])-1]\n",
    "    ecc_matches = illumina_for_scaffold[np.logical_and(np.isclose((illumina_for_scaffold[:,1]).astype(int), start_ecc, atol=tolerance, rtol=0),\n",
    "                                    np.isclose((illumina_for_scaffold[:,2]).astype(int), end_ecc, atol=tolerance, rtol=0))]\n",
    "    if np.shape(ecc_matches)[0] > 0:\n",
    "        pacbio_with_overlap.append(ecc)\n",
    "        overlap_count.append(np.shape(ecc_matches)[0])\n",
    "    else:\n",
    "        pacbio_no_overlap.append(ecc)"
   ]
  },
  {
   "cell_type": "code",
   "execution_count": 18,
   "metadata": {},
   "outputs": [
    {
     "name": "stdout",
     "output_type": "stream",
     "text": [
      "15431\n"
     ]
    }
   ],
   "source": [
    "print(len(pacbio_with_overlap))"
   ]
  },
  {
   "cell_type": "code",
   "execution_count": 19,
   "metadata": {},
   "outputs": [
    {
     "name": "stdout",
     "output_type": "stream",
     "text": [
      "3328\n"
     ]
    }
   ],
   "source": [
    "print(len(pacbio_no_overlap))"
   ]
  },
  {
   "cell_type": "code",
   "execution_count": 20,
   "metadata": {},
   "outputs": [
    {
     "name": "stdout",
     "output_type": "stream",
     "text": [
      "0.8225918225918226\n"
     ]
    }
   ],
   "source": [
    "print(len(pacbio_with_overlap)/len(pacbio_eccs))"
   ]
  },
  {
   "cell_type": "code",
   "execution_count": 21,
   "metadata": {},
   "outputs": [],
   "source": [
    "illumina_file = 'mapq0_and_uniq_splitreads.allfalsepositives.bed'"
   ]
  },
  {
   "cell_type": "code",
   "execution_count": 22,
   "metadata": {},
   "outputs": [],
   "source": [
    "illumina = []\n",
    "with open(illumina_file, newline = '') as file:\n",
    "    file_reader = csv.reader(file, delimiter = '\\t')\n",
    "    for row in file_reader:\n",
    "        illumina.append([row[0], row[1], row[2]])\n",
    "illumina_indexed = [[] for i in range(56)]\n",
    "for ecc in illumina:\n",
    "    scaffold_num = int(ecc[0][10:12])-1\n",
    "    illumina_indexed[scaffold_num].append(ecc)\n",
    "illumina_arrays = []\n",
    "for i in range(len(illumina_indexed)):\n",
    "    illumina_arrays.append(np.array(illumina_indexed[i], dtype=object))"
   ]
  },
  {
   "cell_type": "code",
   "execution_count": 23,
   "metadata": {},
   "outputs": [],
   "source": [
    "pacbio_with_overlap = []\n",
    "overlap_count = []\n",
    "pacbio_no_overlap = []\n",
    "tolerance = 10\n",
    "for ecc in pacbio_eccs:\n",
    "    start_ecc = ecc[1]\n",
    "    end_ecc = ecc[2]\n",
    "    illumina_for_scaffold = illumina_arrays[int(ecc[0][10:12])-1]\n",
    "    ecc_matches = illumina_for_scaffold[np.logical_and(np.isclose((illumina_for_scaffold[:,1]).astype(int), start_ecc, atol=tolerance, rtol=0),\n",
    "                                    np.isclose((illumina_for_scaffold[:,2]).astype(int), end_ecc, atol=tolerance, rtol=0))]\n",
    "    if np.shape(ecc_matches)[0] > 0:\n",
    "        pacbio_with_overlap.append(ecc)\n",
    "        overlap_count.append(np.shape(ecc_matches)[0])\n",
    "    else:\n",
    "        pacbio_no_overlap.append(ecc)"
   ]
  },
  {
   "cell_type": "code",
   "execution_count": 24,
   "metadata": {},
   "outputs": [
    {
     "name": "stdout",
     "output_type": "stream",
     "text": [
      "17039\n",
      "1720\n",
      "0.9083106775414468\n"
     ]
    }
   ],
   "source": [
    "print(len(pacbio_with_overlap))\n",
    "print(len(pacbio_no_overlap))\n",
    "print(len(pacbio_with_overlap)/len(pacbio_eccs))"
   ]
  }
 ],
 "metadata": {
  "kernelspec": {
   "display_name": "Python 3",
   "language": "python",
   "name": "python3"
  },
  "language_info": {
   "codemirror_mode": {
    "name": "ipython",
    "version": 3
   },
   "file_extension": ".py",
   "mimetype": "text/x-python",
   "name": "python",
   "nbconvert_exporter": "python",
   "pygments_lexer": "ipython3",
   "version": "3.7.6"
  }
 },
 "nbformat": 4,
 "nbformat_minor": 4
}
