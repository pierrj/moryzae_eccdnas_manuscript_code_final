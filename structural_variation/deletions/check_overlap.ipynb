{
 "cells": [
  {
   "cell_type": "code",
   "execution_count": 4,
   "metadata": {},
   "outputs": [],
   "source": [
    "import csv\n",
    "import numpy as np"
   ]
  },
  {
   "cell_type": "code",
   "execution_count": 5,
   "metadata": {},
   "outputs": [],
   "source": [
    "region_file = 'uniq.all_small_deletions.bed'\n",
    "ecc_file = 'noduplicates.all.ecc_caller_out.details.nolowq.txt'"
   ]
  },
  {
   "cell_type": "code",
   "execution_count": 6,
   "metadata": {},
   "outputs": [],
   "source": [
    "regions = []\n",
    "with open(region_file, newline = '') as file:\n",
    "    file_reader = csv.reader(file, delimiter = '\\t')\n",
    "    for row in file_reader:\n",
    "        regions.append([row[0], int(row[1]), int(row[2])])\n",
    "\n",
    "eccs = []\n",
    "with open(ecc_file, newline = '') as file:\n",
    "    file_reader = csv.reader(file, delimiter = '\\t')\n",
    "    for row in file_reader:\n",
    "        eccs.append([row[0], row[1], row[2]])"
   ]
  },
  {
   "cell_type": "code",
   "execution_count": 7,
   "metadata": {},
   "outputs": [],
   "source": [
    "eccs_indexed = [[] for i in range(56)]\n",
    "for ecc in eccs:\n",
    "    scaffold_num = int(ecc[0][10:12])-1\n",
    "    eccs_indexed[scaffold_num].append(ecc)\n",
    "eccs_arrays = []\n",
    "for i in range(len(eccs_indexed)):\n",
    "    eccs_arrays.append(np.array(eccs_indexed[i], dtype=object))"
   ]
  },
  {
   "cell_type": "code",
   "execution_count": 14,
   "metadata": {},
   "outputs": [
    {
     "name": "stdout",
     "output_type": "stream",
     "text": [
      "[['MQOP01000001.1' '4269016' '4269289']]\n",
      "['MQOP01000001.1', 4269037, 4269304]\n",
      "[['MQOP01000002.1' '1576079' '1576574']\n",
      " ['MQOP01000002.1' '1576080' '1576573']]\n",
      "['MQOP01000002.1', 1576128, 1576574]\n",
      "[['MQOP01000003.1' '2813082' '2813309']]\n",
      "['MQOP01000003.1', 2813032, 2813292]\n",
      "[['MQOP01000008.1' '1266462' '1266806']]\n",
      "['MQOP01000008.1', 1266451, 1266801]\n",
      "[['MQOP01000009.1' '297607' '297989']]\n",
      "['MQOP01000009.1', 297582, 298013]\n",
      "[['MQOP01000012.1' '161704' '162007']]\n",
      "['MQOP01000012.1', 161655, 162012]\n",
      "[['MQOP01000013.1' '118322' '118886']]\n",
      "['MQOP01000013.1', 118371, 118845]\n",
      "[['MQOP01000022.1' '197275' '197587']]\n",
      "['MQOP01000022.1', 197231, 197618]\n"
     ]
    }
   ],
   "source": [
    "regions_with_overlap = []\n",
    "tolerance = 50\n",
    "for region in regions:\n",
    "    start_region = region[1]\n",
    "    end_region= region[2]\n",
    "    eccs_for_scaffold = eccs_arrays[int(region[0][10:12])-1]\n",
    "    ecc_matches = eccs_for_scaffold[np.logical_and(np.isclose((eccs_for_scaffold[:,1]).astype(int), start_region, atol=tolerance, rtol=0),\n",
    "                                    np.isclose((eccs_for_scaffold[:,2]).astype(int), end_region, atol=tolerance, rtol=0))]\n",
    "    if np.shape(ecc_matches)[0] > 0:\n",
    "        regions_with_overlap.append(ecc_matches)\n",
    "        print(ecc_matches)\n",
    "        print(region)"
   ]
  },
  {
   "cell_type": "code",
   "execution_count": 15,
   "metadata": {},
   "outputs": [
    {
     "name": "stdout",
     "output_type": "stream",
     "text": [
      "257\n"
     ]
    }
   ],
   "source": [
    "print(len(regions))"
   ]
  },
  {
   "cell_type": "code",
   "execution_count": 16,
   "metadata": {},
   "outputs": [
    {
     "name": "stdout",
     "output_type": "stream",
     "text": [
      "8\n"
     ]
    }
   ],
   "source": [
    "print(len(regions_with_overlap))"
   ]
  }
 ],
 "metadata": {
  "kernelspec": {
   "display_name": "Python 3",
   "language": "python",
   "name": "python3"
  },
  "language_info": {
   "codemirror_mode": {
    "name": "ipython",
    "version": 3
   },
   "file_extension": ".py",
   "mimetype": "text/x-python",
   "name": "python",
   "nbconvert_exporter": "python",
   "pygments_lexer": "ipython3",
   "version": "3.7.6"
  }
 },
 "nbformat": 4,
 "nbformat_minor": 4
}
