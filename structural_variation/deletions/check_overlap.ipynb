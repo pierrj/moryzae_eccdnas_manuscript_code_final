{
 "cells": [
  {
   "cell_type": "code",
   "execution_count": 1,
   "metadata": {},
   "outputs": [],
   "source": [
    "import csv\n",
    "import numpy as np"
   ]
  },
  {
   "cell_type": "code",
   "execution_count": 2,
   "metadata": {},
   "outputs": [],
   "source": [
    "region_file = 'uniq.all_small_deletions.bed'\n",
    "ecc_file = 'noduplicates.all.ecc_caller_out.details.nolowq.txt'"
   ]
  },
  {
   "cell_type": "code",
   "execution_count": 3,
   "metadata": {},
   "outputs": [],
   "source": [
    "regions = []\n",
    "with open(region_file, newline = '') as file:\n",
    "    file_reader = csv.reader(file, delimiter = '\\t')\n",
    "    for row in file_reader:\n",
    "        regions.append([row[0], int(row[1]), int(row[2])])\n",
    "\n",
    "eccs = []\n",
    "with open(ecc_file, newline = '') as file:\n",
    "    file_reader = csv.reader(file, delimiter = '\\t')\n",
    "    for row in file_reader:\n",
    "        eccs.append([row[0], row[1], row[2]])"
   ]
  },
  {
   "cell_type": "code",
   "execution_count": 4,
   "metadata": {},
   "outputs": [],
   "source": [
    "eccs_indexed = [[] for i in range(56)]\n",
    "for ecc in eccs:\n",
    "    scaffold_num = int(ecc[0][10:12])-1\n",
    "    eccs_indexed[scaffold_num].append(ecc)\n",
    "eccs_arrays = []\n",
    "for i in range(len(eccs_indexed)):\n",
    "    eccs_arrays.append(np.array(eccs_indexed[i], dtype=object))"
   ]
  },
  {
   "cell_type": "code",
   "execution_count": 5,
   "metadata": {},
   "outputs": [],
   "source": [
    "regions_with_overlap = []\n",
    "tolerance = 10\n",
    "for region in regions:\n",
    "    start_region = region[1]\n",
    "    end_region= region[2]\n",
    "    eccs_for_scaffold = eccs_arrays[int(region[0][10:12])-1]\n",
    "    ecc_matches = eccs_for_scaffold[np.logical_and(np.isclose((eccs_for_scaffold[:,1]).astype(int), start_region, atol=tolerance, rtol=0),\n",
    "                                    np.isclose((eccs_for_scaffold[:,2]).astype(int), end_region, atol=tolerance, rtol=0))]\n",
    "    if np.shape(ecc_matches)[0] > 0:\n",
    "        regions_with_overlap.append(ecc_matches)\n",
    "        print(ecc_matches)\n",
    "        print(region)"
   ]
  },
  {
   "cell_type": "code",
   "execution_count": 6,
   "metadata": {},
   "outputs": [
    {
     "name": "stdout",
     "output_type": "stream",
     "text": [
      "257\n"
     ]
    }
   ],
   "source": [
    "print(len(regions))"
   ]
  },
  {
   "cell_type": "code",
   "execution_count": 7,
   "metadata": {},
   "outputs": [
    {
     "name": "stdout",
     "output_type": "stream",
     "text": [
      "0\n"
     ]
    }
   ],
   "source": [
    "print(len(regions_with_overlap))"
   ]
  }
 ],
 "metadata": {
  "kernelspec": {
   "display_name": "Python 3",
   "language": "python",
   "name": "python3"
  },
  "language_info": {
   "codemirror_mode": {
    "name": "ipython",
    "version": 3
   },
   "file_extension": ".py",
   "mimetype": "text/x-python",
   "name": "python",
   "nbconvert_exporter": "python",
   "pygments_lexer": "ipython3",
   "version": "3.7.6"
  }
 },
 "nbformat": 4,
 "nbformat_minor": 4
}
