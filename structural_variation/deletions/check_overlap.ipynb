{
 "cells": [
  {
   "cell_type": "code",
   "execution_count": 1,
   "metadata": {},
   "outputs": [],
   "source": [
    "#MIT License\n",
    "#\n",
    "#Copyright (c) 2021 Pierre Michel Joubert\n",
    "#\n",
    "#Permission is hereby granted, free of charge, to any person obtaining a copy\n",
    "#of this software and associated documentation files (the \"Software\"), to deal\n",
    "#in the Software without restriction, including without limitation the rights\n",
    "#to use, copy, modify, merge, publish, distribute, sublicense, and/or sell\n",
    "#copies of the Software, and to permit persons to whom the Software is\n",
    "#furnished to do so, subject to the following conditions:\n",
    "#\n",
    "#The above copyright notice and this permission notice shall be included in all\n",
    "#copies or substantial portions of the Software.\n",
    "#\n",
    "#THE SOFTWARE IS PROVIDED \"AS IS\", WITHOUT WARRANTY OF ANY KIND, EXPRESS OR\n",
    "#IMPLIED, INCLUDING BUT NOT LIMITED TO THE WARRANTIES OF MERCHANTABILITY,\n",
    "#FITNESS FOR A PARTICULAR PURPOSE AND NONINFRINGEMENT. IN NO EVENT SHALL THE\n",
    "#AUTHORS OR COPYRIGHT HOLDERS BE LIABLE FOR ANY CLAIM, DAMAGES OR OTHER\n",
    "#LIABILITY, WHETHER IN AN ACTION OF CONTRACT, TORT OR OTHERWISE, ARISING FROM,\n",
    "#OUT OF OR IN CONNECTION WITH THE SOFTWARE OR THE USE OR OTHER DEALINGS IN THE\n",
    "#SOFTWARE.\n",
    "import csv\n",
    "import numpy as np"
   ]
  },
  {
   "cell_type": "code",
   "execution_count": 2,
   "metadata": {},
   "outputs": [],
   "source": [
    "# locations of gene deletions in guy11 genome\n",
    "region_file = 'uniq.all_small_deletions.bed'\n",
    "# list of non-lowq eccdnas from all samples in guy11\n",
    "ecc_file = 'noduplicates.all.ecc_caller_out.details.nolowq.txt'"
   ]
  },
  {
   "cell_type": "code",
   "execution_count": 3,
   "metadata": {},
   "outputs": [],
   "source": [
    "# read in\n",
    "regions = []\n",
    "with open(region_file, newline = '') as file:\n",
    "    file_reader = csv.reader(file, delimiter = '\\t')\n",
    "    for row in file_reader:\n",
    "        regions.append([row[0], int(row[1]), int(row[2])])\n",
    "\n",
    "eccs = []\n",
    "with open(ecc_file, newline = '') as file:\n",
    "    file_reader = csv.reader(file, delimiter = '\\t')\n",
    "    for row in file_reader:\n",
    "        eccs.append([row[0], row[1], row[2]])"
   ]
  },
  {
   "cell_type": "code",
   "execution_count": 4,
   "metadata": {},
   "outputs": [],
   "source": [
    "## index and numpify for speed up\n",
    "eccs_indexed = [[] for i in range(56)]\n",
    "for ecc in eccs:\n",
    "    scaffold_num = int(ecc[0][10:12])-1\n",
    "    eccs_indexed[scaffold_num].append(ecc)\n",
    "eccs_arrays = []\n",
    "for i in range(len(eccs_indexed)):\n",
    "    eccs_arrays.append(np.array(eccs_indexed[i], dtype=object))"
   ]
  },
  {
   "cell_type": "code",
   "execution_count": 5,
   "metadata": {},
   "outputs": [],
   "source": [
    "# check for overlaps between eccdnas and regions\n",
    "regions_with_overlap = []\n",
    "tolerance = 10 # tolerance is important here\n",
    "for region in regions:\n",
    "    start_region = region[1]\n",
    "    end_region= region[2]\n",
    "    eccs_for_scaffold = eccs_arrays[int(region[0][10:12])-1]\n",
    "    # magic numpy comparison command with tolerance\n",
    "    ecc_matches = eccs_for_scaffold[np.logical_and(np.isclose((eccs_for_scaffold[:,1]).astype(int), start_region, atol=tolerance, rtol=0),\n",
    "                                    np.isclose((eccs_for_scaffold[:,2]).astype(int), end_region, atol=tolerance, rtol=0))]\n",
    "    if np.shape(ecc_matches)[0] > 0:\n",
    "        regions_with_overlap.append(ecc_matches)\n",
    "        print(ecc_matches)\n",
    "        print(region)"
   ]
  },
  {
   "cell_type": "code",
   "execution_count": 6,
   "metadata": {},
   "outputs": [
    {
     "name": "stdout",
     "output_type": "stream",
     "text": [
      "257\n"
     ]
    }
   ],
   "source": [
    "print(len(regions))"
   ]
  },
  {
   "cell_type": "code",
   "execution_count": 7,
   "metadata": {},
   "outputs": [
    {
     "name": "stdout",
     "output_type": "stream",
     "text": [
      "0\n"
     ]
    }
   ],
   "source": [
    "print(len(regions_with_overlap))"
   ]
  }
 ],
 "metadata": {
  "kernelspec": {
   "display_name": "Python 3",
   "language": "python",
   "name": "python3"
  },
  "language_info": {
   "codemirror_mode": {
    "name": "ipython",
    "version": 3
   },
   "file_extension": ".py",
   "mimetype": "text/x-python",
   "name": "python",
   "nbconvert_exporter": "python",
   "pygments_lexer": "ipython3",
   "version": "3.7.6"
  }
 },
 "nbformat": 4,
 "nbformat_minor": 4
}
