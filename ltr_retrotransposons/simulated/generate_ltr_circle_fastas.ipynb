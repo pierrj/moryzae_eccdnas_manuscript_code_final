{
 "cells": [
  {
   "cell_type": "code",
   "execution_count": 5,
   "metadata": {},
   "outputs": [],
   "source": [
    "#MIT License\n",
    "#\n",
    "#Copyright (c) 2021 Pierre Michel Joubert\n",
    "#\n",
    "#Permission is hereby granted, free of charge, to any person obtaining a copy\n",
    "#of this software and associated documentation files (the \"Software\"), to deal\n",
    "#in the Software without restriction, including without limitation the rights\n",
    "#to use, copy, modify, merge, publish, distribute, sublicense, and/or sell\n",
    "#copies of the Software, and to permit persons to whom the Software is\n",
    "#furnished to do so, subject to the following conditions:\n",
    "#\n",
    "#The above copyright notice and this permission notice shall be included in all\n",
    "#copies or substantial portions of the Software.\n",
    "#\n",
    "#THE SOFTWARE IS PROVIDED \"AS IS\", WITHOUT WARRANTY OF ANY KIND, EXPRESS OR\n",
    "#IMPLIED, INCLUDING BUT NOT LIMITED TO THE WARRANTIES OF MERCHANTABILITY,\n",
    "#FITNESS FOR A PARTICULAR PURPOSE AND NONINFRINGEMENT. IN NO EVENT SHALL THE\n",
    "#AUTHORS OR COPYRIGHT HOLDERS BE LIABLE FOR ANY CLAIM, DAMAGES OR OTHER\n",
    "#LIABILITY, WHETHER IN AN ACTION OF CONTRACT, TORT OR OTHERWISE, ARISING FROM,\n",
    "#OUT OF OR IN CONNECTION WITH THE SOFTWARE OR THE USE OR OTHER DEALINGS IN THE\n",
    "#SOFTWARE.\n",
    "import csv\n",
    "import random\n",
    "\n",
    "## USAGE ##\n",
    "# this script takes the internal and LTR sequences of a retrotransposon and simulates a fasta file of\n",
    "# what the sequence would look like under different eccdna formation scenarios"
   ]
  },
  {
   "cell_type": "code",
   "execution_count": 9,
   "metadata": {},
   "outputs": [],
   "source": [
    "# open fasta files of ltr sequence or internal sequence\n",
    "with open('maggy_I_final.fasta') as internal_file:\n",
    "    internal_reader = csv.reader(internal_file, delimiter = '\\t')\n",
    "    next(internal_reader)\n",
    "    for row in internal_reader:\n",
    "        internal_seq = row[0]\n",
    "        \n",
    "with open('maggy_LTR_final.fasta') as ltr_file:\n",
    "    ltr_reader = csv.reader(ltr_file, delimiter = '\\t')\n",
    "    next(ltr_reader)\n",
    "    for row in ltr_reader:\n",
    "        ltr_seq = row[0]"
   ]
  },
  {
   "cell_type": "code",
   "execution_count": 10,
   "metadata": {},
   "outputs": [
    {
     "data": {
      "text/plain": [
       "253"
      ]
     },
     "execution_count": 10,
     "metadata": {},
     "output_type": "execute_result"
    }
   ],
   "source": [
    "len(ltr_seq)"
   ]
  },
  {
   "cell_type": "code",
   "execution_count": 11,
   "metadata": {},
   "outputs": [
    {
     "data": {
      "text/plain": [
       "5132"
      ]
     },
     "execution_count": 11,
     "metadata": {},
     "output_type": "execute_result"
    }
   ],
   "source": [
    "len(internal_seq)"
   ]
  },
  {
   "cell_type": "code",
   "execution_count": 12,
   "metadata": {},
   "outputs": [],
   "source": [
    "## for 1 ltr HR circle\n",
    "## end of ltr + internal + start of ltr\n",
    "one_ltr_hr_circle_seq = ltr_seq[round(len(ltr_seq)/2):]+internal_seq+ltr_seq[:round(len(ltr_seq)/2)]\n",
    "one_ltr_hr_circle_seq_randomized = []\n",
    "for i in range(10000):\n",
    "    rand = random.randint(0,len(one_ltr_hr_circle_seq))\n",
    "    one_ltr_hr_circle_seq_randomized.append(['>one_ltr_hr_circle_seq_randomized'+str(i)])\n",
    "    one_ltr_hr_circle_seq_randomized.append([one_ltr_hr_circle_seq[rand:]+one_ltr_hr_circle_seq[:rand]])"
   ]
  },
  {
   "cell_type": "code",
   "execution_count": 13,
   "metadata": {},
   "outputs": [],
   "source": [
    "## for 2 ltr NHEJ circle\n",
    "## ltr + ltr + internal or ltr+internal+ltr, these are equivalent\n",
    "two_ltr_nhej_circle_seq = ltr_seq+ltr_seq+internal_seq\n",
    "two_ltr_nhej_circle_seq_randomized = []\n",
    "for i in range(10000):\n",
    "    rand = random.randint(0,len(two_ltr_nhej_circle_seq))\n",
    "    two_ltr_nhej_circle_seq_randomized.append(['>two_ltr_nhej_circle_seq_randomized'+str(i)])\n",
    "    two_ltr_nhej_circle_seq_randomized.append([two_ltr_nhej_circle_seq[rand:]+\n",
    "                                               two_ltr_nhej_circle_seq[:rand]])"
   ]
  },
  {
   "cell_type": "code",
   "execution_count": 14,
   "metadata": {},
   "outputs": [],
   "source": [
    "## for 1 ltr autointegration circle\n",
    "## end of ltr + internal + start of ltr\n",
    "## but then randomization is slightly different\n",
    "one_ltr_auto_circle_seq = ltr_seq[round(len(ltr_seq)/2):]+internal_seq+ltr_seq[:round(len(ltr_seq)/2)]\n",
    "one_ltr_auto_circle_seq_randomized = []\n",
    "for i in range(10000):\n",
    "    start_or_end = random.randint(0,1)\n",
    "    # arbitrary min length and max length\n",
    "    rand = random.randint(100,len(one_ltr_auto_circle_seq)-100)\n",
    "    if start_or_end:\n",
    "        random_seq = ltr_seq[round(len(ltr_seq)/2):]+internal_seq[:rand]+ltr_seq[:round(len(ltr_seq)/2)]\n",
    "    else:\n",
    "        random_seq = ltr_seq[round(len(ltr_seq)/2):]+internal_seq[rand:]+ltr_seq[:round(len(ltr_seq)/2)]\n",
    "    #then circularize\n",
    "    rand2 = random.randint(0,len(random_seq))\n",
    "    one_ltr_auto_circle_seq_randomized.append(['>one_ltr_auto_circle_seq_randomized'+str(i)])\n",
    "    one_ltr_auto_circle_seq_randomized.append([random_seq[rand2:]+random_seq[:rand2]])"
   ]
  },
  {
   "cell_type": "code",
   "execution_count": 15,
   "metadata": {},
   "outputs": [],
   "source": [
    "# write\n",
    "with open('one_ltr_hr_circle_seq_randomized_maggy.fasta', 'w', newline = '') as out:\n",
    "    w = csv.writer(out, delimiter ='\\t')\n",
    "    for row in one_ltr_hr_circle_seq_randomized:\n",
    "        w.writerow(row)\n",
    "with open('two_ltr_nhej_circle_seq_randomized_maggy.fasta', 'w', newline = '') as out:\n",
    "    w = csv.writer(out, delimiter ='\\t')\n",
    "    for row in two_ltr_nhej_circle_seq_randomized:\n",
    "        w.writerow(row)\n",
    "with open('one_ltr_auto_circle_seq_randomized_maggy.fasta', 'w', newline = '') as out:\n",
    "    w = csv.writer(out, delimiter ='\\t')\n",
    "    for row in one_ltr_auto_circle_seq_randomized:\n",
    "        w.writerow(row)"
   ]
  }
 ],
 "metadata": {
  "kernelspec": {
   "display_name": "Python 3",
   "language": "python",
   "name": "python3"
  },
  "language_info": {
   "codemirror_mode": {
    "name": "ipython",
    "version": 3
   },
   "file_extension": ".py",
   "mimetype": "text/x-python",
   "name": "python",
   "nbconvert_exporter": "python",
   "pygments_lexer": "ipython3",
   "version": "3.7.6"
  }
 },
 "nbformat": 4,
 "nbformat_minor": 4
}
